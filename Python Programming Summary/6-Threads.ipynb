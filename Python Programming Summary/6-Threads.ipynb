{
 "cells": [
  {
   "cell_type": "markdown",
   "metadata": {},
   "source": [
    "# Threads\n",
    "\n",
    "Running several threads is similar to running several different programs concurrently, but with the following benefits:\n",
    "\n",
    "* Multiple threads within a process share the same data space with the main thread and can therefore share information or communicate with each other more easily than if they were separate processes.\n",
    "\n",
    "* Threads are sometimes called light-weight processes and they do not require much memory overhead; they are cheaper than processes.\n",
    "\n",
    "![threads](../res/threads.jpg)"
   ]
  },
  {
   "cell_type": "markdown",
   "metadata": {},
   "source": [
    "#### How to create a thread\n",
    "creating a thread in python is easy using `threading` module, a thread is typically a function that you assign the thread to\n"
   ]
  },
  {
   "cell_type": "code",
   "execution_count": 1,
   "metadata": {
    "collapsed": false
   },
   "outputs": [
    {
     "name": "stdout",
     "output_type": "stream",
     "text": [
      "00\n",
      "\n",
      "11\n",
      "0\n",
      "2\n",
      "2\n",
      "1\n",
      "3\n",
      "3\n",
      "2\n",
      "4\n",
      "4\n",
      "3\n",
      "5\n",
      "5\n",
      "4\n",
      "6\n",
      "6\n",
      "5done all\n",
      "7\n",
      "7\n",
      "6\n",
      "8\n",
      "8\n",
      "7\n",
      "\n",
      "9\n",
      "9\n",
      "8\n",
      "\n",
      "109\n",
      "\n",
      "1110\n",
      "\n",
      "1211\n",
      "\n",
      "1312\n",
      "\n",
      "1413\n",
      "\n",
      "1514\n",
      "\n",
      "16\n",
      "17\n",
      "18\n",
      "19\n"
     ]
    }
   ],
   "source": [
    "import threading\n",
    "\n",
    "def foo(counter):\n",
    "    for i in range(counter):\n",
    "        print(i)\n",
    "\n",
    "# create Threads\n",
    "t1 = threading.Thread(target=foo, args=(10,))\n",
    "t2 = threading.Thread(target=foo, args=(20,))\n",
    "t3 = threading.Thread(target=foo, args=(15,))\n",
    "\n",
    "threads = [t1, t2, t3]\n",
    "\n",
    "for t in threads:\n",
    "    t.start()\n",
    "\n",
    "for t in threads:\n",
    "    t.join()\n",
    "\n",
    "print(\"done all\")"
   ]
  },
  {
   "cell_type": "markdown",
   "metadata": {},
   "source": [
    "## Thread Object\n",
    "\n",
    "`Thread` let you create a thread with the following options\n",
    "\n",
    "* `target` the function to be called\n",
    "* `args` the args (non-key-word) ones\n",
    "* `kwargs` the keyword args\n",
    "* `name` can give a name to a thread\n",
    "\n",
    "## Running threads\n",
    "\n",
    "you can run a thread using:\n",
    "\n",
    "### `start()`\n",
    "\n",
    "* Start the thread’s activity.\n",
    "\n",
    "* It must be called at most once per thread object. It arranges for the object’s `run()` method to be invoked in a separate thread of control.\n",
    "\n",
    "* This method will raise a RuntimeError if called more than once on the same thread object.\n",
    "\n",
    "### `run()`\n",
    "\n",
    "* Method representing the thread’s activity.\n",
    "\n",
    "* You may override this method in a subclass. The standard `run()` method invokes the callable object passed to the object’s constructor as the target argument, if any, with sequential and keyword arguments taken from the args and kwargs arguments, respectively.\n",
    "\n",
    "### `join(timeout=None)`\n",
    "\n",
    "* Wait until the thread terminates. This blocks the calling thread until the thread whose `join()` method is called terminates – either normally or through an unhandled exception – or until the optional timeout occurs.\n",
    "\n",
    "* When the timeout argument is present and not None, it should be a floating point number specifying a timeout for the operation in seconds (or fractions thereof).\n",
    "\n",
    "## Threading info\n",
    "\n",
    "you can get the current thread info\n",
    "\n",
    "### `threading.active_count()`\n",
    "\n",
    "Return the number of Thread objects currently alive. The returned count is equal to the length of the list returned by `enumerate()`.\n",
    "\n",
    "### `threading.current_thread()`\n",
    "\n",
    "Return the current Thread object, corresponding to the caller’s thread of control. If the caller’s thread of control was not created through the threading module, a dummy thread object with limited functionality is returned.\n",
    "\n",
    "### `threading.enumerate()`\n",
    "\n",
    "Return a list of all Thread objects currently alive. The list includes daemonic threads, dummy thread objects created by `current_thread()`, and the main thread. It excludes terminated threads and threads that have not yet been started.\n",
    "\n",
    "> you can check more functions from the `threading` documentation [here](https://docs.python.org/3/library/threading.html)"
   ]
  },
  {
   "cell_type": "markdown",
   "metadata": {},
   "source": [
    "# Threads queues\n",
    "\n",
    "as you know each thread has his own local data, so we can't share data between multiple threads directly\n",
    "\n",
    "in order to solve this problem we use `queue` module\n",
    "\n",
    "The `queue` module implements multi-producer, multi-consumer queues. It is especially useful in threaded programming when information must be exchanged safely between multiple threads. The `Queue` class in this module implements all the required locking semantics. It depends on the availability of thread support in Python.\n",
    "\n",
    "The module implements three types of queue, which differ only in the order in which the entries are retrieved. In a ***FIFO*** queue, the first tasks added are the first retrieved. In a ***LIFO*** queue, the most recently added entry is the first retrieved (operating like a ***stack***). With a ***priority queue***, the entries are kept sorted (using the `heapq` module) and the lowest valued entry is retrieved first.\n"
   ]
  },
  {
   "cell_type": "code",
   "execution_count": 1,
   "metadata": {
    "collapsed": false
   },
   "outputs": [
    {
     "name": "stdout",
     "output_type": "stream",
     "text": [
      "total sum is : 45150\n"
     ]
    }
   ],
   "source": [
    "import queue\n",
    "import threading\n",
    "\n",
    "def foo(start, end, my_queue):\n",
    "    nums = [i for i in range(start, end+1)]\n",
    "    my_queue.put(sum(nums))\n",
    "\n",
    "sum_queue = queue.Queue()\n",
    "\n",
    "t1 = threading.Thread(target=foo, args=(1, 100, sum_queue,))\n",
    "t2 = threading.Thread(target=foo, args=(101, 200, sum_queue,))\n",
    "t3 = threading.Thread(target=foo, args=(201, 300, sum_queue,))\n",
    "\n",
    "threads = [t1, t2, t3]\n",
    "\n",
    "for t in threads:\n",
    "    t.start()\n",
    "\n",
    "for t in threads:\n",
    "    t.join()\n",
    "\n",
    "total_sum = 0\n",
    "while not sum_queue.empty():\n",
    "    total_sum += sum_queue.get()\n",
    "\n",
    "print(\"total sum is :\", total_sum)"
   ]
  },
  {
   "cell_type": "markdown",
   "metadata": {
    "collapsed": true
   },
   "source": [
    "## Types of the queues\n",
    "\n",
    "### `class queue.Queue(maxsize=0)`\n",
    "\n",
    "Constructor for a FIFO queue. maxsize is an integer that sets the upperbound limit on the number of items that can be placed in the queue. Insertion will block once this size has been reached, until queue items are consumed. If maxsize is less than or equal to zero, the queue size is infinite.\n",
    "\n",
    "### `class queue.LifoQueue(maxsize=0)`\n",
    "\n",
    "Constructor for a LIFO queue. maxsize is an integer that sets the upperbound limit on the number of items that can be placed in the queue. Insertion will block once this size has been reached, until queue items are consumed. If maxsize is less than or equal to zero, the queue size is infinite.\n",
    "\n",
    "### `class queue.PriorityQueue(maxsize=0)`\n",
    "\n",
    "Constructor for a priority queue. maxsize is an integer that sets the upperbound limit on the number of items that can be placed in the queue. Insertion will block once this size has been reached, until queue items are consumed. If maxsize is less than or equal to zero, the queue size is infinite.\n",
    "\n",
    "The lowest valued entries are retrieved first (the lowest valued entry is the one returned by `sorted(list(entries))[0])`. A typical pattern for entries is a tuple in the form: `(priority_number, data)`.\n",
    "\n",
    "## queue functions\n",
    "\n",
    "### `Queue.qsize()`\n",
    "\n",
    "Return the approximate size of the queue.\n",
    "\n",
    "### `Queue.empty()`\n",
    "\n",
    "Return `True` if the queue is empty, `False` otherwise.\n",
    "\n",
    "### `Queue.full()`\n",
    "\n",
    "Return `True` if the queue is full, `False` otherwise.\n",
    "\n",
    "### `Queue.put(item)`\n",
    "\n",
    "Put item into the queue.\n",
    "\n",
    "### `Queue.get()`\n",
    "\n",
    "Remove and return an item from the queue."
   ]
  }
 ],
 "metadata": {
  "kernelspec": {
   "display_name": "Python 3",
   "language": "python",
   "name": "python3"
  },
  "language_info": {
   "codemirror_mode": {
    "name": "ipython",
    "version": 3
   },
   "file_extension": ".py",
   "mimetype": "text/x-python",
   "name": "python",
   "nbconvert_exporter": "python",
   "pygments_lexer": "ipython3",
   "version": "3.6.2"
  }
 },
 "nbformat": 4,
 "nbformat_minor": 2
}
