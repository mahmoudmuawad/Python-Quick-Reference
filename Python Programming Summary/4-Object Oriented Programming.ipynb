{
 "cells": [
  {
   "cell_type": "markdown",
   "metadata": {},
   "source": [
    "# Object Oriented Programming\n"
   ]
  },
  {
   "cell_type": "markdown",
   "metadata": {},
   "source": [
    "* objects  : \n",
    "<p> are the elements that the big class include and can use attributes and methods of the class </p>"
   ]
  },
  {
   "cell_type": "code",
   "execution_count": 1,
   "metadata": {
    "collapsed": false
   },
   "outputs": [
    {
     "name": "stdout",
     "output_type": "stream",
     "text": [
      "<class 'int'>\n",
      "<class 'list'>\n",
      "<class 'tuple'>\n",
      "<class 'dict'>\n"
     ]
    }
   ],
   "source": [
    "# types : mainly are classes in python\n",
    "print(type(1))\n",
    "print(type([]))\n",
    "print(type(()))\n",
    "print(type({}))"
   ]
  },
  {
   "cell_type": "markdown",
   "metadata": {},
   "source": [
    "* class\n",
    "<p> is a user-defined data type can be used to declare an object and created by **class** keyword"
   ]
  },
  {
   "cell_type": "code",
   "execution_count": 2,
   "metadata": {
    "collapsed": false
   },
   "outputs": [
    {
     "name": "stdout",
     "output_type": "stream",
     "text": [
      "<class '__main__.nothing'>\n"
     ]
    }
   ],
   "source": [
    "# Create a new object that do nothing\n",
    "class nothing:\n",
    "    pass\n",
    "# declare an object to the class\n",
    "x = nothing()\n",
    "# show the object class\n",
    "print(type(x))"
   ]
  },
  {
   "cell_type": "markdown",
   "metadata": {},
   "source": [
    "* Attributes\n",
    "<p> \n",
    "</p>\n",
    "<p> are variables defined inside the class and can be accessed by class objects </p>\n",
    "<p> also we can pass them through class objects by special function - constructor - **__init__()** "
   ]
  },
  {
   "cell_type": "code",
   "execution_count": 3,
   "metadata": {
    "collapsed": false
   },
   "outputs": [
    {
     "name": "stdout",
     "output_type": "stream",
     "text": [
      "rex\n"
     ]
    }
   ],
   "source": [
    "class Dog:                        # Dog : the name of the function                                   \n",
    "    species = 'mam'               # Class Object Attribute\n",
    "    def __init__(self,name):      # defining the class constructor / self refers to the class itself\n",
    "        self.name = name          # defining the constructor atrributes : defined when the class is called\n",
    "        \n",
    "sam = Dog(name='rex')             # passing\n",
    "frank = Dog(name='Horama')\n",
    "\n",
    "print(sam.name)                   # accessing attribute"
   ]
  },
  {
   "cell_type": "markdown",
   "metadata": {},
   "source": [
    "* Methods \n",
    "<p> are functions defined inside the class and can be accessed by the class objects </p>"
   ]
  },
  {
   "cell_type": "code",
   "execution_count": 4,
   "metadata": {
    "collapsed": true
   },
   "outputs": [],
   "source": [
    "# creating the class\n",
    "class Rectangle :\n",
    "    def __init__ (self, length, width) : \n",
    "        self.length = length\n",
    "        self.width = width\n",
    "    def area (self) :            # method to find the area of the rectangle \n",
    "        return self.length*self.width\n",
    "    def circum (self):           # method to find the circumference of the rectange\n",
    "        return 2*(self.length+self.width)"
   ]
  },
  {
   "cell_type": "code",
   "execution_count": 5,
   "metadata": {
    "collapsed": false
   },
   "outputs": [
    {
     "name": "stdout",
     "output_type": "stream",
     "text": [
      "calling the rec1 area : 10\n",
      "calling the rec1 circumference : 14\n"
     ]
    }
   ],
   "source": [
    "rec1 = Rectangle(2,5)         # declare an object to the class Rectangle\n",
    "print(\"calling the rec1 area : {}\".format(rec1.area()) )\n",
    "print(\"calling the rec1 circumference : {}\".format(rec1.circum())) "
   ]
  },
  {
   "cell_type": "markdown",
   "metadata": {},
   "source": [
    "### Inheritance\n",
    "<p>Inheritance is a way to form new classes using classes that have already been defined. </p>"
   ]
  },
  {
   "cell_type": "code",
   "execution_count": 6,
   "metadata": {
    "collapsed": true
   },
   "outputs": [],
   "source": [
    "# creating a class called animal\n",
    "class Animal:\n",
    "    def __init__(self):\n",
    "        print(\"Animal created\")\n",
    "    def whoAmI(self):\n",
    "        print(\"Animal\")\n",
    "    def eat(self):\n",
    "        print(\"Eating\")\n",
    "        \n",
    "# declare the class dog inherit form animal so, it can access its attributes and methods\n",
    "class Dog(Animal):                 \n",
    "    def __init__(self):\n",
    "        Animal.__init__(self)\n",
    "        print(\"Dog created\")\n",
    "    def whoAmI(self):\n",
    "        Animal.whoAmI(self)\n",
    "        print(\"Dog\")\n",
    "    def bark(self):\n",
    "        print(\"Woof!\")"
   ]
  },
  {
   "cell_type": "code",
   "execution_count": 7,
   "metadata": {
    "collapsed": false
   },
   "outputs": [
    {
     "name": "stdout",
     "output_type": "stream",
     "text": [
      "Animal created\n",
      "Dog created\n"
     ]
    }
   ],
   "source": [
    "my_dog = Dog() # declare dog that call both constructors"
   ]
  },
  {
   "cell_type": "code",
   "execution_count": 8,
   "metadata": {
    "collapsed": false
   },
   "outputs": [
    {
     "name": "stdout",
     "output_type": "stream",
     "text": [
      "Animal\n",
      "Dog\n"
     ]
    }
   ],
   "source": [
    "my_dog.whoAmI()     # this methods from class dog only"
   ]
  },
  {
   "cell_type": "code",
   "execution_count": 9,
   "metadata": {
    "collapsed": false
   },
   "outputs": [
    {
     "name": "stdout",
     "output_type": "stream",
     "text": [
      "Woof!\n"
     ]
    }
   ],
   "source": [
    "my_dog.bark()       # this function didn't inherit any thing from class animal "
   ]
  },
  {
   "cell_type": "markdown",
   "metadata": {},
   "source": [
    "### Polymorphism\n",
    "polymorphism refers to the way in which different object classes can share the same method name, and those methods can be called from the same place even though a variety of different objects might be passed in"
   ]
  },
  {
   "cell_type": "code",
   "execution_count": 10,
   "metadata": {
    "collapsed": false
   },
   "outputs": [
    {
     "name": "stdout",
     "output_type": "stream",
     "text": [
      "Fido says Woof!\n",
      "Isis says Meow!\n"
     ]
    }
   ],
   "source": [
    "class Animal:\n",
    "    def __init__(self, name):    # Constructor of the class\n",
    "        self.name = name\n",
    "\n",
    "    def speak(self):              # Abstract method, defined by convention only\n",
    "        raise NotImplementedError(\"Subclass must implement abstract method\")\n",
    "\n",
    "\n",
    "class Dog(Animal):\n",
    "    \n",
    "    def speak(self):\n",
    "        return self.name+' says Woof!'\n",
    "    \n",
    "class Cat(Animal):\n",
    "\n",
    "    def speak(self):\n",
    "        return self.name+' says Meow!'\n",
    "    \n",
    "fido = Dog('Fido')\n",
    "isis = Cat('Isis')\n",
    "\n",
    "print(fido.speak())\n",
    "print(isis.speak())"
   ]
  },
  {
   "cell_type": "markdown",
   "metadata": {},
   "source": [
    "### Special Methods\n",
    "these are actions that are evalualted when used objects of the class with specific functions"
   ]
  },
  {
   "cell_type": "code",
   "execution_count": 11,
   "metadata": {
    "collapsed": true
   },
   "outputs": [],
   "source": [
    "class Book:\n",
    "    def __init__(self, title, author, pages):\n",
    "        print(\"A book is created\")\n",
    "        self.title = title\n",
    "        self.author = author\n",
    "        self.pages = pages\n",
    "\n",
    "    def __str__(self):\n",
    "        return \"Title: %s, author: %s, pages: %s\" %(self.title, self.author, self.pages)\n",
    "\n",
    "    def __len__(self):\n",
    "        return self.pages\n",
    "\n",
    "    def __del__(self):\n",
    "        print(\"A book is destroyed\")"
   ]
  },
  {
   "cell_type": "code",
   "execution_count": 12,
   "metadata": {
    "collapsed": false
   },
   "outputs": [
    {
     "name": "stdout",
     "output_type": "stream",
     "text": [
      "A book is created\n",
      "Title: Python Rocks!, author: Jose Portilla, pages: 159\n",
      "159\n",
      "A book is destroyed\n"
     ]
    }
   ],
   "source": [
    "book = Book(\"Python Rocks!\", \"Jose Portilla\", 159)\n",
    "#Special Methods\n",
    "print(book)\n",
    "print(len(book))\n",
    "del book"
   ]
  }
 ],
 "metadata": {
  "kernelspec": {
   "display_name": "Python 3",
   "language": "python",
   "name": "python3"
  },
  "language_info": {
   "codemirror_mode": {
    "name": "ipython",
    "version": 3
   },
   "file_extension": ".py",
   "mimetype": "text/x-python",
   "name": "python",
   "nbconvert_exporter": "python",
   "pygments_lexer": "ipython3",
   "version": "3.6.2"
  }
 },
 "nbformat": 4,
 "nbformat_minor": 2
}
