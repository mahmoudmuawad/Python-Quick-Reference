{
 "cells": [
  {
   "cell_type": "markdown",
   "metadata": {},
   "source": [
    "# Jupyter Notebooks\n",
    "\n",
    "As a web application in which you can create and share documents that contain live code, equations, visualizations as well as text, the Jupyter Notebook is one of the ideal tools to help you to gain the data science skills you need.\n",
    "\n",
    "![jupyter](../res/jupyter.png)\n",
    "\n",
    "by default you will have the ipython and all that you need in the anaconda, in case any of them missed you can install it indiviually\n",
    "\n",
    "## IPython\n",
    "\n",
    "IPython (Interactive Python) is a command shell for interactive computing in multiple programming languages, originally developed for the Python programming language, that offers introspection, rich media, shell syntax, tab completion, and history.\n",
    "\n",
    "you can use IPython from terminal by typing `ipython3`, this will start the `ipython3` console\n",
    "\n",
    "the IPython has that GUI interface we just opened, or you can invode the notebook version, which is now called Jupyter Notebook\n",
    "\n",
    "## Kernels\n",
    "\n",
    "A kernel is a program that runs and introspects the user’s code: it provides computation and communication with the frontend interfaces, such as notebooks.\n",
    "\n",
    "by default the kernel that is installed on your notebook will be the python version you have downloaded it for.\n",
    "\n",
    "## Launch your first Notebook\n",
    "\n",
    "run a terminal session in the path you want to run the notebook in and type `jupyter-notebook`, this will launch the jupyter-notebook home page\n",
    "\n",
    "## Jupyter-lab\n",
    "\n",
    "it more like a IDE version of the notebook.\n",
    "\n",
    "if it is not installed by defaul you can installed it via this command\n",
    "\n",
    "### Using PIP\n",
    "\n",
    "```bash\n",
    "pip install jupyterlab\n",
    "```\n",
    "\n",
    "### Using Conda\n",
    "\n",
    "```bash\n",
    "conda install -c conda-forge jupyterlab\n",
    "```\n",
    "\n",
    "## Let's take a look in the notebook itself now"
   ]
  }
 ],
 "metadata": {
  "kernelspec": {
   "display_name": "Python 3",
   "language": "python",
   "name": "python3"
  },
  "language_info": {
   "codemirror_mode": {
    "name": "ipython",
    "version": 3
   },
   "file_extension": ".py",
   "mimetype": "text/x-python",
   "name": "python",
   "nbconvert_exporter": "python",
   "pygments_lexer": "ipython3",
   "version": "3.6.0"
  }
 },
 "nbformat": 4,
 "nbformat_minor": 2
}
