{
 "cells": [
  {
   "cell_type": "markdown",
   "metadata": {},
   "source": [
    "## Process\n",
    "\n",
    "In computing, a process is an instance of a computer program that is being executed. It contains the program code and its activity. Depending on the operating system (OS), a process may be made up of multiple threads of execution that execute instructions concurrently.\n",
    "\n",
    "![process](../res/process.png)\n",
    "\n",
    "#### GIL problem in CPython\n",
    "\n",
    "In CPython, the global interpreter lock, or GIL, is a mutex that protects access to Python objects, preventing multiple threads from executing Python bytecodes at once. This lock is necessary mainly because CPython's memory management is not thread-safe. (However, since the GIL exists, other features have grown to depend on the guarantees that it enforces.)\n"
   ]
  },
  {
   "cell_type": "code",
   "execution_count": 1,
   "metadata": {
    "collapsed": false,
    "scrolled": true
   },
   "outputs": [
    {
     "name": "stdout",
     "output_type": "stream",
     "text": [
      "0\n",
      "1\n",
      "2\n",
      "3\n",
      "4\n",
      "5\n",
      "6\n",
      "7\n",
      "8\n",
      "9\n",
      "0\n",
      "0\n",
      "1\n",
      "2\n",
      "1\n",
      "2\n",
      "3\n",
      "3\n",
      "4\n",
      "4\n",
      "5\n",
      "6\n",
      "5\n",
      "6\n",
      "7\n",
      "7\n",
      "8\n",
      "9\n",
      "8\n",
      "10\n",
      "9\n",
      "10\n",
      "11\n",
      "12\n",
      "11\n",
      "12\n",
      "13\n",
      "14\n",
      "15\n",
      "13\n",
      "16\n",
      "17\n",
      "14\n",
      "18\n",
      "19\n",
      "done all\n"
     ]
    }
   ],
   "source": [
    "import multiprocessing\n",
    "\n",
    "def foo(counter):\n",
    "    for i in range(counter):\n",
    "        print(i)\n",
    "\n",
    "# create Threads\n",
    "p1 = multiprocessing.Process(target=foo, args=(10,))\n",
    "p2 = multiprocessing.Process(target=foo, args=(20,))\n",
    "p3 = multiprocessing.Process(target=foo, args=(15,))\n",
    "\n",
    "processes = [p1, p2, p3]\n",
    "\n",
    "for p in processes:\n",
    "    p.start()\n",
    "\n",
    "for p in processes:\n",
    "    p.join()\n",
    "\n",
    "print(\"done all\")"
   ]
  },
  {
   "cell_type": "markdown",
   "metadata": {},
   "source": [
    "### Queue\n",
    "you can use the same queues as in `threading` but you need to call it from the `multiprocessing` module"
   ]
  },
  {
   "cell_type": "code",
   "execution_count": 2,
   "metadata": {
    "collapsed": false
   },
   "outputs": [
    {
     "name": "stdout",
     "output_type": "stream",
     "text": [
      "total sum is : 45150\n"
     ]
    }
   ],
   "source": [
    "from multiprocessing import Process, Queue\n",
    "def foo(start, end, my_queue):\n",
    "    nums = [i for i in range(start, end+1)]\n",
    "    my_queue.put(sum(nums))\n",
    "\n",
    "sum_queue = Queue()\n",
    "p1 = Process(target=foo, args=(1, 100, sum_queue,))\n",
    "p2 = Process(target=foo, args=(101, 200, sum_queue,))\n",
    "p3 = Process(target=foo, args=(201, 300, sum_queue,))\n",
    "processes = [p1, p2, p3]\n",
    "for p in processes:\n",
    "    p.start()\n",
    "for p in processes:\n",
    "    p.join()\n",
    "total_sum = 0\n",
    "while not sum_queue.empty():\n",
    "    total_sum += sum_queue.get()\n",
    "print(\"total sum is :\", total_sum)"
   ]
  },
  {
   "cell_type": "markdown",
   "metadata": {},
   "source": [
    "### Process id\n",
    "the process is handled from the operating system, so the to get info about the process we use the `os` module"
   ]
  },
  {
   "cell_type": "code",
   "execution_count": 4,
   "metadata": {
    "collapsed": false
   },
   "outputs": [
    {
     "name": "stdout",
     "output_type": "stream",
     "text": [
      "main line\n",
      "module name: __main__\n",
      "parent process: 6137\n",
      "process id: 8377\n",
      "function f\n",
      "module name: __main__\n",
      "parent process: 8377\n",
      "process id: 8572\n",
      "hello bob\n"
     ]
    }
   ],
   "source": [
    "from multiprocessing import Process\n",
    "import os\n",
    "\n",
    "def info(title):\n",
    "    print(title)\n",
    "    print('module name:', __name__)\n",
    "    print('parent process:', os.getppid())\n",
    "    print('process id:', os.getpid())\n",
    "\n",
    "def f(name):\n",
    "    info('function f')\n",
    "    print('hello', name)\n",
    "\n",
    "if __name__ == '__main__':\n",
    "    info('main line')\n",
    "    p = Process(target=f, args=('bob',))\n",
    "    p.start()\n",
    "    p.join()"
   ]
  },
  {
   "cell_type": "markdown",
   "metadata": {},
   "source": [
    "> Note\n",
    "\n",
    "when implementing a Multiprocessing program you need to keep in mind the number of cores in the pc you're working on, in order to make the code make use of all the cores and not to overload the system you can check the `Pool` method [here](https://docs.python.org/3.4/library/multiprocessing.html#using-a-pool-of-workers)"
   ]
  }
 ],
 "metadata": {
  "kernelspec": {
   "display_name": "Python 3",
   "language": "python",
   "name": "python3"
  },
  "language_info": {
   "codemirror_mode": {
    "name": "ipython",
    "version": 3
   },
   "file_extension": ".py",
   "mimetype": "text/x-python",
   "name": "python",
   "nbconvert_exporter": "python",
   "pygments_lexer": "ipython3",
   "version": "3.6.2"
  }
 },
 "nbformat": 4,
 "nbformat_minor": 2
}
