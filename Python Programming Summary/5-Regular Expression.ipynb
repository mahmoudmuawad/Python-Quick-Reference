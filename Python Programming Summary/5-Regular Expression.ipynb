{
 "cells": [
  {
   "cell_type": "markdown",
   "metadata": {},
   "source": [
    "# What is the Regex\n",
    "\n",
    "A regular expression, regex or regexp (sometimes called a rational expression) is, in theoretical computer science and formal language theory, a sequence of characters that define a search pattern. Usually this pattern is then used by `string` searching algorithms for \"find\" or \"find and replace\" operations on strings, or for input validation."
   ]
  },
  {
   "cell_type": "markdown",
   "metadata": {},
   "source": [
    "### Regex in Python\n",
    "\n",
    "python provide module for regex called `re`\n",
    "\n",
    "we are going to use the `findall` and `sub` functions"
   ]
  },
  {
   "cell_type": "markdown",
   "metadata": {},
   "source": [
    "* sub\n",
    "<p>used to replace a world in a string by another world </p>"
   ]
  },
  {
   "cell_type": "code",
   "execution_count": 3,
   "metadata": {
    "collapsed": false
   },
   "outputs": [
    {
     "name": "stdout",
     "output_type": "stream",
     "text": [
      "my name is Ali\n"
     ]
    }
   ],
   "source": [
    "# example : replace ahmed in a string by ali\n",
    "import re\n",
    "text = \"my name is Ahmed\"\n",
    "new_text = re.sub(\"Ahmed\", \"Ali\", text)\n",
    "print(new_text)"
   ]
  },
  {
   "cell_type": "markdown",
   "metadata": {},
   "source": [
    "* findall \n",
    "<p> used to find a specific word in a string </p>"
   ]
  },
  {
   "cell_type": "code",
   "execution_count": 4,
   "metadata": {
    "collapsed": false
   },
   "outputs": [
    {
     "name": "stdout",
     "output_type": "stream",
     "text": [
      "['Ahmed']\n"
     ]
    }
   ],
   "source": [
    "text = \"my name is Ahmed\"\n",
    "results = re.findall(\"Ahmed\", text)\n",
    "print(results)"
   ]
  },
  {
   "cell_type": "markdown",
   "metadata": {},
   "source": [
    "### Special Characters (Regular Expressions)\n",
    "\n",
    "some characters have special functions and are not just character, for example the `\\n` which indicate a newline and the `\\t` which is a tap space.\n",
    "\n",
    "* Basic patterns that match single chars\n",
    "\n",
    "| Character  | function |\n",
    "| ------------- | ------------- |\n",
    "| a-z, 0-9  | ordinary characters just match themselves exactly.|\n",
    "| . (dot)  | matches any single character except newline '\\n'  |\n",
    "| \\w | matches a \"word\" character: a letter or digit or underbar [a-zA-Z0-9_] |\n",
    "| \\W | matches any non-word character |\n",
    "| \\b | boundary between word and non-word |\n",
    "| \\s | matches a single whitespace character -- space, newline, return, tab |\n",
    "| \\S | matches any non-whitespace character |\n",
    "| \\t, \\n, \\r | tab, newline, return |\n",
    "| \\d | decimal digit [0-9] |\n",
    "| ^ | matches start of the string |\n",
    "| $ | match the end of the string |\n",
    "\n",
    "Let's mix them with normal characters\n",
    "\n",
    "> note that we use `r` before the pattern string to let python know not to parse them, for example not to take \\n and replace it by newline.\n"
   ]
  },
  {
   "cell_type": "code",
   "execution_count": 5,
   "metadata": {
    "collapsed": false,
    "scrolled": true
   },
   "outputs": [
    {
     "name": "stdout",
     "output_type": "stream",
     "text": [
      "['regular']\n"
     ]
    }
   ],
   "source": [
    "import re\n",
    "text = \"\"\"regular expression is a special sequence of characters that helps you match or find other strings or sets of strings, using regular expression pattern. regular expressions are widely used in UNIX world.\"\"\"\n",
    "results = re.findall(r\"^regular\", text)\n",
    "print(results)"
   ]
  },
  {
   "cell_type": "code",
   "execution_count": 6,
   "metadata": {
    "collapsed": false
   },
   "outputs": [
    {
     "name": "stdout",
     "output_type": "stream",
     "text": [
      "Regular expression is a special sequence of characters that helps you match or find other strings or sets of strings, using regular expression pattern. regular expressions are widely used in UNIX world.\n"
     ]
    }
   ],
   "source": [
    "import re\n",
    "text = \"\"\"regular expression is a special sequence of characters that helps you match or find other strings or sets of strings, using regular expression pattern. regular expressions are widely used in UNIX world.\"\"\"\n",
    "results = re.sub(r\"^regular\", \"Regular\", text)\n",
    "print(results)"
   ]
  },
  {
   "cell_type": "markdown",
   "metadata": {},
   "source": [
    "### Complex Regex\n",
    "you can mix and match multiple expressions and have more than one instances of them\n",
    "\n",
    "* Grouping characters\n",
    "\n",
    "let's take a look at some examples\n",
    "\n",
    "| Example  | description |\n",
    "| --- | --- |\n",
    "| [Pp]ython | Match \"Python\" or \"python\" |\n",
    "| rub[ye] | Match \"ruby\" or \"rube\" |\n",
    "| [aeiou] | Match any one lowercase vowel |\n",
    "| [0-9] | Match any digit; same as [0123456789] |\n",
    "| [a-z] | Match any lowercase ASCII letter |\n",
    "| [A-Z] | Match any uppercase ASCII letter |\n",
    "| [a-zA-Z0-9] | Match any of the defined |\n",
    "| [^aeiou] | Match anything other than a lowercase vowel |\n",
    "| [^0-9] | Match anything other than a digit |\n",
    "\n",
    "we can use **OR** to use multiple regex together.\n"
   ]
  },
  {
   "cell_type": "code",
   "execution_count": 7,
   "metadata": {
    "collapsed": false
   },
   "outputs": [
    {
     "name": "stdout",
     "output_type": "stream",
     "text": [
      "talking about python\n",
      "talking about python\n",
      "talking about python\n",
      "something else\n"
     ]
    }
   ],
   "source": [
    "# Example\n",
    "import re\n",
    "texts = [\n",
    "  \"python is a great language\",\n",
    "  \"i lov to write in py\",\n",
    "  \"what a cool language Python is\",\n",
    "  \"the pyramids of giza are so huge!\"\n",
    "]\n",
    "for text in texts:\n",
    "  python_detected = re.findall(r\"[Pp]ython|[Pp]y\\b\", text)\n",
    "  if python_detected:\n",
    "    print(\"talking about python\")\n",
    "  else:\n",
    "    print(\"something else\")"
   ]
  },
  {
   "cell_type": "markdown",
   "metadata": {},
   "source": [
    "* Repetition Cases\n",
    "\n",
    "| Example | description |\n",
    "| --- | --- |\n",
    "| ruby? | Match \"rub\" or \"ruby\": the y is optional |\n",
    "| ruby* | Match \"rub\" plus 0 or more y(s) |\n",
    "| ruby+ | Match \"rub\" plus 1 or more y(s) |\n",
    "| \\d{3} | Match exactly 3 digits |\n",
    "| \\d{3,} | Match 3 or more digits |\n",
    "| \\d{3,5} | Match 3, 4, or 5 digits |\n"
   ]
  },
  {
   "cell_type": "code",
   "execution_count": 8,
   "metadata": {
    "collapsed": false
   },
   "outputs": [
    {
     "name": "stdout",
     "output_type": "stream",
     "text": [
      "['2018']\n"
     ]
    }
   ],
   "source": [
    "# example \n",
    "import re\n",
    "text = \"it's 2018, happy new year!\"\n",
    "years = re.findall(r\"\\d{4}\", text)\n",
    "print(years)"
   ]
  },
  {
   "cell_type": "code",
   "execution_count": 9,
   "metadata": {
    "collapsed": false
   },
   "outputs": [
    {
     "name": "stdout",
     "output_type": "stream",
     "text": [
      "this is a text tweet that contains multiple numbers NUM, NUM\n"
     ]
    }
   ],
   "source": [
    "# one More example\n",
    "import re\n",
    "text = \"this is a text tweet that contains multiple numbers 011121314, 012121212\"\n",
    "new_text = re.sub(r\"[0-9]+\", \"NUM\", text)\n",
    "print(new_text)"
   ]
  },
  {
   "cell_type": "markdown",
   "metadata": {},
   "source": [
    "* Search groups\n",
    "<p>you can create a search groups with regex and retrieve each one with `search()` function </p>"
   ]
  },
  {
   "cell_type": "code",
   "execution_count": 11,
   "metadata": {
    "collapsed": false
   },
   "outputs": [
    {
     "name": "stdout",
     "output_type": "stream",
     "text": [
      "support@datacamp.com\n",
      "support\n",
      "datacamp.com\n"
     ]
    }
   ],
   "source": [
    "import re\n",
    "email_address = 'Please contact us at: support@datacamp.com'\n",
    "match = re.search(r'([\\w\\.-]+)@([\\w\\.-]+)', email_address)\n",
    "if match:\n",
    "  print(match.group()) # The whole matched text\n",
    "  print(match.group(1)) # The username (group 1)\n",
    "  print(match.group(2)) # The host (group 2)"
   ]
  },
  {
   "cell_type": "markdown",
   "metadata": {},
   "source": [
    "* `match` vs `search`\n",
    "\n",
    "The `match()` function checks for a match only at the beginning of the string whereas the `search()` function checks for a match anywhere in the string."
   ]
  },
  {
   "cell_type": "markdown",
   "metadata": {},
   "source": [
    "* Greedy vs Non-Greedy Matching\n",
    "\n",
    "When a special character matches as much of the search sequence (string) as possible, it is said to be a \"Greedy Match\". It is the normal behavior of a regular expression but sometimes this behavior is not desired\n",
    "\n",
    "Example\n",
    "\n",
    "```python\n",
    "heading  = r'<h1>TITLE</h1>'\n",
    "re.match(r'<.*>', heading).group()\n",
    "```\n",
    "\n",
    "```raw\n",
    "'<h1>TITLE</h1>'\n",
    "```\n",
    "\n",
    "The pattern `<.*>` matched the whole string, right up to the second occurrence of `>`.\n",
    "\n",
    "However, if you only wanted to match the first `<h1>` tag, you could have used the greedy qualifier `*?` that matches as little text as possible.\n",
    "\n",
    "Adding `?` after the qualifier makes it perform the match in a non-greedy or minimal fashion; That is, as few characters as possible will be matched. When you run `<.*>`, you will only get a match with `<h1>`.\n",
    "\n",
    "Example\n",
    "\n",
    "```python\n",
    "heading  = r'<h1>TITLE</h1>'\n",
    "re.match(r'<.*?>', heading).group()\n",
    "```\n",
    "\n",
    "```raw\n",
    "'<h1>'\n",
    "```"
   ]
  }
 ],
 "metadata": {
  "kernelspec": {
   "display_name": "Python 3",
   "language": "python",
   "name": "python3"
  },
  "language_info": {
   "codemirror_mode": {
    "name": "ipython",
    "version": 3
   },
   "file_extension": ".py",
   "mimetype": "text/x-python",
   "name": "python",
   "nbconvert_exporter": "python",
   "pygments_lexer": "ipython3",
   "version": "3.6.2"
  }
 },
 "nbformat": 4,
 "nbformat_minor": 2
}
